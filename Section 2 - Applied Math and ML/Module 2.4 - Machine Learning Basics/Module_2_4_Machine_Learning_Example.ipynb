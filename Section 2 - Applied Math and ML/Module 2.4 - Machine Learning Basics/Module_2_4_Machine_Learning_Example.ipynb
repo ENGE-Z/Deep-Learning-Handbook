{
  "nbformat": 4,
  "nbformat_minor": 0,
  "metadata": {
    "colab": {
      "name": "Module 2.4 Machine Learning Example",
      "provenance": [],
      "collapsed_sections": [],
      "include_colab_link": true
    },
    "kernelspec": {
      "name": "python3",
      "display_name": "Python 3"
    }
  },
  "cells": [
    {
      "cell_type": "markdown",
      "metadata": {
        "id": "view-in-github",
        "colab_type": "text"
      },
      "source": [
        "<a href=\"https://colab.research.google.com/github/Tim-R413/Deep-Learning-Handbook/blob/Testing-Layout/Section%202%20-%20Applied%20Math%20and%20ML/Module%202.4%20-%20Machine%20Learning%20Basics/Module_2_4_Machine_Learning_Example.ipynb\" target=\"_parent\"><img src=\"https://colab.research.google.com/assets/colab-badge.svg\" alt=\"Open In Colab\"/></a>"
      ]
    },
    {
      "cell_type": "code",
      "metadata": {
        "id": "zaz4CYQywE4t",
        "colab": {
          "base_uri": "https://localhost:8080/",
          "height": 35
        },
        "outputId": "9a80784f-0bb2-4613-ed5b-5432ed4607da"
      },
      "source": [
        "a=10\n",
        "print(a)"
      ],
      "execution_count": null,
      "outputs": [
        {
          "output_type": "stream",
          "text": [
            "10\n"
          ],
          "name": "stdout"
        }
      ]
    },
    {
      "cell_type": "markdown",
      "metadata": {
        "id": "M5S8KN-3ugR3"
      },
      "source": [
        "Google Colaboratory adalah  **Jupyter Notebook** gratis yang tidak memerlukan setting dan instalasi serta sepenuhnya berjalan **di cloud environment milik Google**.\n",
        "\n",
        "Dengan Google Colaboratory kita dapat menulis dan mengeksekusi kode Python dengan mudah melalui browser (bahkan bisa dari **browser mobile**).\n",
        "\n",
        "Kita juga dapat sharing code beserta hasilnya dengan sangat mudah melalui **Google Drive**. \n"
      ]
    },
    {
      "cell_type": "markdown",
      "metadata": {
        "id": "uWDNawkEgb_U"
      },
      "source": [
        "### Intro to Python"
      ]
    },
    {
      "cell_type": "markdown",
      "metadata": {
        "id": "_vbUO3CzgvZc"
      },
      "source": [
        "Coba beberapa script Python di bawah. \n",
        "\n",
        "Disetiap cell ada tombol **play** di kiri yang gunanya untuk eksekusi kode."
      ]
    },
    {
      "cell_type": "code",
      "metadata": {
        "id": "ynpYkKRnw_C7",
        "colab": {
          "base_uri": "https://localhost:8080/",
          "height": 35
        },
        "outputId": "2831f091-3c93-40ad-ad33-7c024eb7ae45"
      },
      "source": [
        "#Coba code dibawah \n",
        "print(\"Hello\")"
      ],
      "execution_count": null,
      "outputs": [
        {
          "output_type": "stream",
          "text": [
            "Hello\n"
          ],
          "name": "stdout"
        }
      ]
    },
    {
      "cell_type": "code",
      "metadata": {
        "id": "FBAejq2IeRM7",
        "colab": {
          "base_uri": "https://localhost:8080/",
          "height": 35
        },
        "outputId": "efba264e-5469-47fc-c492-d3802aef5749"
      },
      "source": [
        "a=10 #Deklarasi Variabel sekaligus assignment\n",
        "if a>5: #Struktur if-nya menggunakan indentasi sebagai nested \n",
        "  print(\"a lebih dari 5\")\n",
        "else:\n",
        "  print(\"a kurang atau sama dengan 5\")\n",
        "\n"
      ],
      "execution_count": null,
      "outputs": [
        {
          "output_type": "stream",
          "text": [
            "a lebih dari 5\n"
          ],
          "name": "stdout"
        }
      ]
    },
    {
      "cell_type": "code",
      "metadata": {
        "id": "vxLrO1GMhP6o",
        "colab": {
          "base_uri": "https://localhost:8080/",
          "height": 87
        },
        "outputId": "cd9bdfcc-19d8-45cd-cc2a-ea4a99b9bc27"
      },
      "source": [
        "a=[1,2,3,4] #List di Python (Python Collection) \n",
        "for i in a: #struktur for di python\n",
        "  print (i)"
      ],
      "execution_count": null,
      "outputs": [
        {
          "output_type": "stream",
          "text": [
            "1\n",
            "2\n",
            "3\n",
            "4\n"
          ],
          "name": "stdout"
        }
      ]
    },
    {
      "cell_type": "code",
      "metadata": {
        "id": "aa11H9W5iaLY",
        "colab": {
          "base_uri": "https://localhost:8080/",
          "height": 35
        },
        "outputId": "daff14bc-8fdc-4ef8-abf2-0939198b13e7"
      },
      "source": [
        "def Cetak_n_angka(n): #deklarasi function\n",
        "  for i in range(n):\n",
        "    print (i,end = ' ') #Mencetak tanpa newline\n",
        "    \n",
        "Cetak_n_angka(8)"
      ],
      "execution_count": null,
      "outputs": [
        {
          "output_type": "stream",
          "text": [
            "0 1 2 3 4 5 6 7 "
          ],
          "name": "stdout"
        }
      ]
    },
    {
      "cell_type": "markdown",
      "metadata": {
        "id": "yRfLK-1yftwz"
      },
      "source": [
        "Variabel di Jupyter Notebook berlaku global bukan lokal per cell.\n",
        "\n",
        "Variabel lokal per function tetap dapat dibuat. \n",
        "\n",
        "Auto complete (ctrl+spasi) tetap bisa dipakai tetapi **tidak sebaik** di **VS Code** atau **Pycharm**\n",
        "\n",
        "Belajar Python lebih jauh: **https://www.w3schools.com/python/**\n",
        "\n"
      ]
    },
    {
      "cell_type": "markdown",
      "metadata": {
        "id": "faScJ4oomvU9"
      },
      "source": [
        "### Simple Machine Learning"
      ]
    },
    {
      "cell_type": "markdown",
      "metadata": {
        "id": "Ew-gGY7knUyT"
      },
      "source": [
        "#### Masalah Klasifikasi Bunga\n",
        "\n",
        "Dalam masalah ini terdapat 3 kelas bunga:\n",
        "\n",
        "* Iris setosa\n",
        "* Iris virginica\n",
        "* Iris versicolor\n",
        "\n",
        "dan 4 buah fitur:\n",
        "* Sepal Length\n",
        "* Sepal Width\n",
        "* Petal Length\n",
        "* Petal Width\n",
        "\n",
        "\n",
        "<table>\n",
        "  <tr><td>\n",
        "    <img src=\"https://www.tensorflow.org/images/iris_three_species.jpg\"\n",
        "         alt=\"Petal geometry compared for three iris species: Iris setosa, Iris virginica, and Iris versicolor\">\n",
        "  </td></tr>\n",
        "  <tr><td align=\"center\">\n",
        "    <b>Figure 1.</b> Iris setosa, Iris versicolor, and Iris virginica </td></tr>\n",
        "</table>\n",
        "\n"
      ]
    },
    {
      "cell_type": "markdown",
      "metadata": {
        "id": "_YL8EuGyb6Sq"
      },
      "source": [
        "Impor dahulu semua library yang dibutuhkan"
      ]
    },
    {
      "cell_type": "code",
      "metadata": {
        "id": "p8Sksspbm2cB"
      },
      "source": [
        "import pandas as pd #Python Data Analysis Library \n",
        "import numpy as np #Python Scientific Library (Umumnya membantu \n",
        "#dalam urusan list)\n",
        "\n",
        "#Selective import modul-modul Scikit Learn \n",
        "#(Scikit Learn memiliki banyak modul machine learning)\n",
        "from sklearn import linear_model\n",
        "from sklearn.model_selection import train_test_split\n",
        "from sklearn.metrics import mean_squared_error "
      ],
      "execution_count": null,
      "outputs": []
    },
    {
      "cell_type": "markdown",
      "metadata": {
        "id": "UsdEaEKFc9jd"
      },
      "source": [
        "Colab dengan bantuan pandas dapat langsung mendownloadkan dataset dari URL yang diberikan.\n",
        "Pandas akan membantu memisahkan file csv langsung menjadi dataset (numpy array)."
      ]
    },
    {
      "cell_type": "code",
      "metadata": {
        "id": "LDYl2ZsMnV8Z",
        "colab": {
          "base_uri": "https://localhost:8080/"
        },
        "outputId": "c02fe4d2-f04d-428c-f81a-b3b0af263d60"
      },
      "source": [
        "url = \"https://archive.ics.uci.edu/ml/machine-learning-databases/iris/iris.data\"\n",
        "new_names = ['sepal_length','sepal_width','petal_length','petal_width','iris_class']\n",
        "dataset = pd.read_csv(url, names=new_names, skiprows=0, delimiter=',')\n",
        "dataset.info()"
      ],
      "execution_count": null,
      "outputs": [
        {
          "output_type": "stream",
          "text": [
            "<class 'pandas.core.frame.DataFrame'>\n",
            "RangeIndex: 150 entries, 0 to 149\n",
            "Data columns (total 5 columns):\n",
            " #   Column        Non-Null Count  Dtype  \n",
            "---  ------        --------------  -----  \n",
            " 0   sepal_length  150 non-null    float64\n",
            " 1   sepal_width   150 non-null    float64\n",
            " 2   petal_length  150 non-null    float64\n",
            " 3   petal_width   150 non-null    float64\n",
            " 4   iris_class    150 non-null    object \n",
            "dtypes: float64(4), object(1)\n",
            "memory usage: 6.0+ KB\n"
          ],
          "name": "stdout"
        }
      ]
    },
    {
      "cell_type": "markdown",
      "metadata": {
        "id": "nbPeO3oUuLLE"
      },
      "source": [
        "Mari kita amati data yang baru saja di download"
      ]
    },
    {
      "cell_type": "code",
      "metadata": {
        "id": "zylQ9yzEq2zv",
        "colab": {
          "base_uri": "https://localhost:8080/",
          "height": 233
        },
        "outputId": "f2f1fc0a-27db-44a9-adb4-a0721fdaf01c"
      },
      "source": [
        "dataset.head(6)\n",
        " #change head with sample and tail."
      ],
      "execution_count": null,
      "outputs": [
        {
          "output_type": "execute_result",
          "data": {
            "text/html": [
              "<div>\n",
              "<style scoped>\n",
              "    .dataframe tbody tr th:only-of-type {\n",
              "        vertical-align: middle;\n",
              "    }\n",
              "\n",
              "    .dataframe tbody tr th {\n",
              "        vertical-align: top;\n",
              "    }\n",
              "\n",
              "    .dataframe thead th {\n",
              "        text-align: right;\n",
              "    }\n",
              "</style>\n",
              "<table border=\"1\" class=\"dataframe\">\n",
              "  <thead>\n",
              "    <tr style=\"text-align: right;\">\n",
              "      <th></th>\n",
              "      <th>sepal_length</th>\n",
              "      <th>sepal_width</th>\n",
              "      <th>petal_length</th>\n",
              "      <th>petal_width</th>\n",
              "      <th>iris_class</th>\n",
              "    </tr>\n",
              "  </thead>\n",
              "  <tbody>\n",
              "    <tr>\n",
              "      <th>0</th>\n",
              "      <td>5.1</td>\n",
              "      <td>3.5</td>\n",
              "      <td>1.4</td>\n",
              "      <td>0.2</td>\n",
              "      <td>Iris-setosa</td>\n",
              "    </tr>\n",
              "    <tr>\n",
              "      <th>1</th>\n",
              "      <td>4.9</td>\n",
              "      <td>3.0</td>\n",
              "      <td>1.4</td>\n",
              "      <td>0.2</td>\n",
              "      <td>Iris-setosa</td>\n",
              "    </tr>\n",
              "    <tr>\n",
              "      <th>2</th>\n",
              "      <td>4.7</td>\n",
              "      <td>3.2</td>\n",
              "      <td>1.3</td>\n",
              "      <td>0.2</td>\n",
              "      <td>Iris-setosa</td>\n",
              "    </tr>\n",
              "    <tr>\n",
              "      <th>3</th>\n",
              "      <td>4.6</td>\n",
              "      <td>3.1</td>\n",
              "      <td>1.5</td>\n",
              "      <td>0.2</td>\n",
              "      <td>Iris-setosa</td>\n",
              "    </tr>\n",
              "    <tr>\n",
              "      <th>4</th>\n",
              "      <td>5.0</td>\n",
              "      <td>3.6</td>\n",
              "      <td>1.4</td>\n",
              "      <td>0.2</td>\n",
              "      <td>Iris-setosa</td>\n",
              "    </tr>\n",
              "    <tr>\n",
              "      <th>5</th>\n",
              "      <td>5.4</td>\n",
              "      <td>3.9</td>\n",
              "      <td>1.7</td>\n",
              "      <td>0.4</td>\n",
              "      <td>Iris-setosa</td>\n",
              "    </tr>\n",
              "  </tbody>\n",
              "</table>\n",
              "</div>"
            ],
            "text/plain": [
              "   sepal_length  sepal_width  petal_length  petal_width   iris_class\n",
              "0           5.1          3.5           1.4          0.2  Iris-setosa\n",
              "1           4.9          3.0           1.4          0.2  Iris-setosa\n",
              "2           4.7          3.2           1.3          0.2  Iris-setosa\n",
              "3           4.6          3.1           1.5          0.2  Iris-setosa\n",
              "4           5.0          3.6           1.4          0.2  Iris-setosa\n",
              "5           5.4          3.9           1.7          0.4  Iris-setosa"
            ]
          },
          "metadata": {
            "tags": []
          },
          "execution_count": 23
        }
      ]
    },
    {
      "cell_type": "code",
      "metadata": {
        "id": "7bvHeP1sr79Q",
        "colab": {
          "base_uri": "https://localhost:8080/",
          "height": 171
        },
        "outputId": "c5f1c5d9-5d71-4c25-c6f8-a6bc7f19013f"
      },
      "source": [
        "dataset.groupby('iris_class').count()"
      ],
      "execution_count": null,
      "outputs": [
        {
          "output_type": "execute_result",
          "data": {
            "text/html": [
              "<div>\n",
              "<style scoped>\n",
              "    .dataframe tbody tr th:only-of-type {\n",
              "        vertical-align: middle;\n",
              "    }\n",
              "\n",
              "    .dataframe tbody tr th {\n",
              "        vertical-align: top;\n",
              "    }\n",
              "\n",
              "    .dataframe thead th {\n",
              "        text-align: right;\n",
              "    }\n",
              "</style>\n",
              "<table border=\"1\" class=\"dataframe\">\n",
              "  <thead>\n",
              "    <tr style=\"text-align: right;\">\n",
              "      <th></th>\n",
              "      <th>sepal_length</th>\n",
              "      <th>sepal_width</th>\n",
              "      <th>petal_length</th>\n",
              "      <th>petal_width</th>\n",
              "    </tr>\n",
              "    <tr>\n",
              "      <th>iris_class</th>\n",
              "      <th></th>\n",
              "      <th></th>\n",
              "      <th></th>\n",
              "      <th></th>\n",
              "    </tr>\n",
              "  </thead>\n",
              "  <tbody>\n",
              "    <tr>\n",
              "      <th>Iris-setosa</th>\n",
              "      <td>50</td>\n",
              "      <td>50</td>\n",
              "      <td>50</td>\n",
              "      <td>50</td>\n",
              "    </tr>\n",
              "    <tr>\n",
              "      <th>Iris-versicolor</th>\n",
              "      <td>50</td>\n",
              "      <td>50</td>\n",
              "      <td>50</td>\n",
              "      <td>50</td>\n",
              "    </tr>\n",
              "    <tr>\n",
              "      <th>Iris-virginica</th>\n",
              "      <td>50</td>\n",
              "      <td>50</td>\n",
              "      <td>50</td>\n",
              "      <td>50</td>\n",
              "    </tr>\n",
              "  </tbody>\n",
              "</table>\n",
              "</div>"
            ],
            "text/plain": [
              "                 sepal_length  sepal_width  petal_length  petal_width\n",
              "iris_class                                                           \n",
              "Iris-setosa                50           50            50           50\n",
              "Iris-versicolor            50           50            50           50\n",
              "Iris-virginica             50           50            50           50"
            ]
          },
          "metadata": {
            "tags": []
          },
          "execution_count": 24
        }
      ]
    },
    {
      "cell_type": "code",
      "metadata": {
        "id": "yEevJ-o2eEaS",
        "colab": {
          "base_uri": "https://localhost:8080/",
          "height": 69
        },
        "outputId": "9b0a278a-ad2d-49b6-b1b7-de18d2179f0f"
      },
      "source": [
        "y = dataset['iris_class']\n",
        "x = dataset.drop(['iris_class'], axis=1)\n",
        "\n",
        "print (\"dataset : \",dataset.shape)\n",
        "print (\"x : \",x.shape)\n",
        "print (\"y : \",y.shape)\n"
      ],
      "execution_count": null,
      "outputs": [
        {
          "output_type": "stream",
          "text": [
            "dataset :  (150, 5)\n",
            "x :  (150, 4)\n",
            "y :  (150,)\n"
          ],
          "name": "stdout"
        }
      ]
    },
    {
      "cell_type": "markdown",
      "metadata": {
        "id": "hLcZ2Ui14iAx"
      },
      "source": [
        "Untuk memudahkan klasifikasi, terutama pada Neural Network maka kita perlu convert ke **one hot** mapping.\n",
        "\n",
        "\n",
        "Convert:\n",
        "\n",
        "100: Iris setosa\n",
        "\n",
        "010: Iris versicolor\n",
        "\n",
        "001: Iris virginica"
      ]
    },
    {
      "cell_type": "code",
      "metadata": {
        "id": "f36-aoWhpX1r",
        "colab": {
          "base_uri": "https://localhost:8080/",
          "height": 263
        },
        "outputId": "469e0607-9d86-47c9-a737-75172149eee3"
      },
      "source": [
        "#one hot encoding\n",
        "y=pd.get_dummies(y)\n",
        "y.sample(7)"
      ],
      "execution_count": null,
      "outputs": [
        {
          "output_type": "execute_result",
          "data": {
            "text/html": [
              "<div>\n",
              "<style scoped>\n",
              "    .dataframe tbody tr th:only-of-type {\n",
              "        vertical-align: middle;\n",
              "    }\n",
              "\n",
              "    .dataframe tbody tr th {\n",
              "        vertical-align: top;\n",
              "    }\n",
              "\n",
              "    .dataframe thead th {\n",
              "        text-align: right;\n",
              "    }\n",
              "</style>\n",
              "<table border=\"1\" class=\"dataframe\">\n",
              "  <thead>\n",
              "    <tr style=\"text-align: right;\">\n",
              "      <th></th>\n",
              "      <th>Iris-setosa</th>\n",
              "      <th>Iris-versicolor</th>\n",
              "      <th>Iris-virginica</th>\n",
              "    </tr>\n",
              "  </thead>\n",
              "  <tbody>\n",
              "    <tr>\n",
              "      <th>144</th>\n",
              "      <td>0</td>\n",
              "      <td>0</td>\n",
              "      <td>1</td>\n",
              "    </tr>\n",
              "    <tr>\n",
              "      <th>2</th>\n",
              "      <td>1</td>\n",
              "      <td>0</td>\n",
              "      <td>0</td>\n",
              "    </tr>\n",
              "    <tr>\n",
              "      <th>76</th>\n",
              "      <td>0</td>\n",
              "      <td>1</td>\n",
              "      <td>0</td>\n",
              "    </tr>\n",
              "    <tr>\n",
              "      <th>134</th>\n",
              "      <td>0</td>\n",
              "      <td>0</td>\n",
              "      <td>1</td>\n",
              "    </tr>\n",
              "    <tr>\n",
              "      <th>33</th>\n",
              "      <td>1</td>\n",
              "      <td>0</td>\n",
              "      <td>0</td>\n",
              "    </tr>\n",
              "    <tr>\n",
              "      <th>123</th>\n",
              "      <td>0</td>\n",
              "      <td>0</td>\n",
              "      <td>1</td>\n",
              "    </tr>\n",
              "    <tr>\n",
              "      <th>7</th>\n",
              "      <td>1</td>\n",
              "      <td>0</td>\n",
              "      <td>0</td>\n",
              "    </tr>\n",
              "  </tbody>\n",
              "</table>\n",
              "</div>"
            ],
            "text/plain": [
              "     Iris-setosa  Iris-versicolor  Iris-virginica\n",
              "144            0                0               1\n",
              "2              1                0               0\n",
              "76             0                1               0\n",
              "134            0                0               1\n",
              "33             1                0               0\n",
              "123            0                0               1\n",
              "7              1                0               0"
            ]
          },
          "metadata": {
            "tags": []
          },
          "execution_count": 26
        }
      ]
    },
    {
      "cell_type": "code",
      "metadata": {
        "id": "Y7Z5mGTGfQLk",
        "colab": {
          "base_uri": "https://localhost:8080/",
          "height": 52
        },
        "outputId": "cf505619-6947-4f55-bb19-87c734985f24"
      },
      "source": [
        "# Generate Training and Validation Sets\n",
        "x_train, x_test, y_train, y_test = train_test_split(x,y, test_size=0.3) #0.3 data sebagai data test\n",
        "\n",
        "#converting to float 32bit\n",
        "x_train = np.array(x_train).astype(np.float32)\n",
        "x_test  = np.array(x_test).astype(np.float32)\n",
        "y_train = np.array(y_train).astype(np.float32)\n",
        "y_test  = np.array(y_test).astype(np.float32)\n",
        "\n",
        "#print data split for validation\n",
        "print(x_train.shape, y_train.shape)\n",
        "print(x_test.shape, y_test.shape)"
      ],
      "execution_count": null,
      "outputs": [
        {
          "output_type": "stream",
          "text": [
            "(105, 4) (105, 3)\n",
            "(45, 4) (45, 3)\n"
          ],
          "name": "stdout"
        }
      ]
    },
    {
      "cell_type": "code",
      "metadata": {
        "id": "e6HWvCFwf7Pd",
        "colab": {
          "base_uri": "https://localhost:8080/",
          "height": 52
        },
        "outputId": "24f2b3b2-8744-4cd2-f03b-a2d7b895e69d"
      },
      "source": [
        "from sklearn.decomposition import PCA\n",
        "pca = PCA(n_components=4)\n",
        "pca.fit(x)"
      ],
      "execution_count": null,
      "outputs": [
        {
          "output_type": "execute_result",
          "data": {
            "text/plain": [
              "PCA(copy=True, iterated_power='auto', n_components=4, random_state=None,\n",
              "    svd_solver='auto', tol=0.0, whiten=False)"
            ]
          },
          "metadata": {
            "tags": []
          },
          "execution_count": 28
        }
      ]
    },
    {
      "cell_type": "code",
      "metadata": {
        "id": "ET4-WNPpUwmA",
        "colab": {
          "base_uri": "https://localhost:8080/",
          "height": 121
        },
        "outputId": "f4b0eea6-c3f0-474e-f704-2c02aaa895ec"
      },
      "source": [
        "print(pca.explained_variance_ratio_)\n",
        "print(pca.singular_values_)\n",
        "print(pca.components_)"
      ],
      "execution_count": null,
      "outputs": [
        {
          "output_type": "stream",
          "text": [
            "[0.92461621 0.05301557 0.01718514 0.00518309]\n",
            "[25.08986398  6.00785254  3.42053538  1.87850234]\n",
            "[[ 0.36158968 -0.08226889  0.85657211  0.35884393]\n",
            " [ 0.65653988  0.72971237 -0.1757674  -0.07470647]\n",
            " [-0.58099728  0.59641809  0.07252408  0.54906091]\n",
            " [ 0.31725455 -0.32409435 -0.47971899  0.75112056]]\n"
          ],
          "name": "stdout"
        }
      ]
    },
    {
      "cell_type": "markdown",
      "metadata": {
        "id": "f2nZtGmdvFzv"
      },
      "source": [
        "### Pemanfaatan Machine Learning sederhana k-NN (k-nearest neighbor)"
      ]
    },
    {
      "cell_type": "code",
      "metadata": {
        "id": "fiNOk3ifyAPz",
        "colab": {
          "base_uri": "https://localhost:8080/",
          "height": 277
        },
        "outputId": "bbdad1a8-f925-405c-e672-e36c44424da6"
      },
      "source": [
        "# K-Nearest Neighbours\n",
        "from sklearn.neighbors import KNeighborsClassifier\n",
        "from sklearn.metrics import classification_report\n",
        "from sklearn.metrics import confusion_matrix\n",
        "from sklearn.metrics import accuracy_score\n",
        "\n",
        "Model = KNeighborsClassifier(n_neighbors=7) #Inisialisasi model Machine Learning yang digunakan.\n",
        "Model.fit(x_train, y_train) #Proses training hanya 1 baris ini saja.\n",
        "y_pred = Model.predict(x_test)\n",
        "\n",
        "print(classification_report(y_test, y_pred))  # Mencetak Summary \n",
        "print(confusion_matrix(y_test.argmax(axis=1), y_pred.argmax(axis=1))) # Mencetak Conf Matrix\n",
        "print('accuracy is',accuracy_score(y_pred,y_test)) # Mencetak Accuracy score\n"
      ],
      "execution_count": null,
      "outputs": [
        {
          "output_type": "stream",
          "text": [
            "              precision    recall  f1-score   support\n",
            "\n",
            "           0       1.00      1.00      1.00        18\n",
            "           1       0.93      1.00      0.97        14\n",
            "           2       1.00      0.92      0.96        13\n",
            "\n",
            "   micro avg       0.98      0.98      0.98        45\n",
            "   macro avg       0.98      0.97      0.98        45\n",
            "weighted avg       0.98      0.98      0.98        45\n",
            " samples avg       0.98      0.98      0.98        45\n",
            "\n",
            "[[18  0  0]\n",
            " [ 0 14  0]\n",
            " [ 0  1 12]]\n",
            "accuracy is 0.9777777777777777\n"
          ],
          "name": "stdout"
        }
      ]
    },
    {
      "cell_type": "markdown",
      "metadata": {
        "id": "kgge6ASWs7vo"
      },
      "source": [
        "### MLP  with Scikit Learn"
      ]
    },
    {
      "cell_type": "code",
      "metadata": {
        "id": "Kv1IyTc5narv",
        "colab": {
          "base_uri": "https://localhost:8080/",
          "height": 1000
        },
        "outputId": "7dec9d16-b292-446a-97df-2b20262b797a"
      },
      "source": [
        "from sklearn.metrics import classification_report\n",
        "from sklearn.metrics import confusion_matrix\n",
        "from sklearn.metrics import accuracy_score\n",
        "from sklearn.neural_network import MLPClassifier\n",
        "Model = MLPClassifier(hidden_layer_sizes=(10,5),  \n",
        "                      max_iter=200, \n",
        "                      alpha=0.01, \n",
        "                      solver='sgd', verbose=1,  \n",
        "                      random_state=121) \n",
        "h=Model.fit(x_train,y_train)\n",
        "y_pred=Model.predict(x_test)\n",
        "\n",
        "print(classification_report(y_test,y_pred)) # Mencetak Summary \n",
        "\n",
        "print(confusion_matrix(y_test.argmax(axis=1), y_pred.argmax(axis=1))) # Mencetak Confusion Matrix \n",
        "\n",
        "print('accuracy is ',accuracy_score(y_pred,y_test)) #Accuracy Score"
      ],
      "execution_count": null,
      "outputs": [
        {
          "output_type": "stream",
          "text": [
            "Iteration 1, loss = 2.54966093\n",
            "Iteration 2, loss = 2.50653338\n",
            "Iteration 3, loss = 2.45055385\n",
            "Iteration 4, loss = 2.38843251\n",
            "Iteration 5, loss = 2.32619151\n",
            "Iteration 6, loss = 2.26565908\n",
            "Iteration 7, loss = 2.20820737\n",
            "Iteration 8, loss = 2.15407091\n",
            "Iteration 9, loss = 2.10461331\n",
            "Iteration 10, loss = 2.06069710\n",
            "Iteration 11, loss = 2.02304578\n",
            "Iteration 12, loss = 1.99146575\n",
            "Iteration 13, loss = 1.96545261\n",
            "Iteration 14, loss = 1.94397958\n",
            "Iteration 15, loss = 1.92700855\n",
            "Iteration 16, loss = 1.91364217\n",
            "Iteration 17, loss = 1.90453526\n",
            "Iteration 18, loss = 1.89874549\n",
            "Iteration 19, loss = 1.89518598\n",
            "Iteration 20, loss = 1.89262707\n",
            "Iteration 21, loss = 1.89040107\n",
            "Iteration 22, loss = 1.88816102\n",
            "Iteration 23, loss = 1.88557022\n",
            "Iteration 24, loss = 1.88250910\n",
            "Iteration 25, loss = 1.87895551\n",
            "Iteration 26, loss = 1.87512079\n",
            "Iteration 27, loss = 1.87099589\n",
            "Iteration 28, loss = 1.86664270\n",
            "Iteration 29, loss = 1.86215923\n",
            "Iteration 30, loss = 1.85770283\n",
            "Iteration 31, loss = 1.85315326\n",
            "Iteration 32, loss = 1.84851857\n",
            "Iteration 33, loss = 1.84385388\n",
            "Iteration 34, loss = 1.83919451\n",
            "Iteration 35, loss = 1.83457182\n",
            "Iteration 36, loss = 1.83001219\n",
            "Iteration 37, loss = 1.82553661\n",
            "Iteration 38, loss = 1.82115511\n",
            "Iteration 39, loss = 1.81687553\n",
            "Iteration 40, loss = 1.81270185\n",
            "Iteration 41, loss = 1.80863314\n",
            "Iteration 42, loss = 1.80467479\n",
            "Iteration 43, loss = 1.80094279\n",
            "Iteration 44, loss = 1.79743075\n",
            "Iteration 45, loss = 1.79409267\n",
            "Iteration 46, loss = 1.79098887\n",
            "Iteration 47, loss = 1.78803906\n",
            "Iteration 48, loss = 1.78532281\n",
            "Iteration 49, loss = 1.78267534\n",
            "Iteration 50, loss = 1.78006613\n",
            "Iteration 51, loss = 1.77745377\n",
            "Iteration 52, loss = 1.77483894\n",
            "Iteration 53, loss = 1.77223987\n",
            "Iteration 54, loss = 1.76969244\n",
            "Iteration 55, loss = 1.76717626\n",
            "Iteration 56, loss = 1.76475599\n",
            "Iteration 57, loss = 1.76245329\n",
            "Iteration 58, loss = 1.76021195\n",
            "Iteration 59, loss = 1.75800966\n",
            "Iteration 60, loss = 1.75582285\n",
            "Iteration 61, loss = 1.75361370\n",
            "Iteration 62, loss = 1.75141872\n",
            "Iteration 63, loss = 1.74922761\n",
            "Iteration 64, loss = 1.74702329\n",
            "Iteration 65, loss = 1.74480598\n",
            "Iteration 66, loss = 1.74259243\n",
            "Iteration 67, loss = 1.74040311\n",
            "Iteration 68, loss = 1.73822241\n",
            "Iteration 69, loss = 1.73604746\n",
            "Iteration 70, loss = 1.73386863\n",
            "Iteration 71, loss = 1.73168651\n",
            "Iteration 72, loss = 1.72950126\n",
            "Iteration 73, loss = 1.72731387\n",
            "Iteration 74, loss = 1.72512967\n",
            "Iteration 75, loss = 1.72292934\n",
            "Iteration 76, loss = 1.72072650\n",
            "Iteration 77, loss = 1.71851160\n",
            "Iteration 78, loss = 1.71628632\n",
            "Iteration 79, loss = 1.71404795\n",
            "Iteration 80, loss = 1.71179594\n",
            "Iteration 81, loss = 1.70953746\n",
            "Iteration 82, loss = 1.70727823\n",
            "Iteration 83, loss = 1.70501316\n",
            "Iteration 84, loss = 1.70273353\n",
            "Iteration 85, loss = 1.70043827\n",
            "Iteration 86, loss = 1.69812628\n",
            "Iteration 87, loss = 1.69579648\n",
            "Iteration 88, loss = 1.69344793\n",
            "Iteration 89, loss = 1.69107951\n",
            "Iteration 90, loss = 1.68869001\n",
            "Iteration 91, loss = 1.68627874\n",
            "Iteration 92, loss = 1.68384933\n",
            "Iteration 93, loss = 1.68140292\n",
            "Iteration 94, loss = 1.67893317\n",
            "Iteration 95, loss = 1.67644052\n",
            "Iteration 96, loss = 1.67392501\n",
            "Iteration 97, loss = 1.67138955\n",
            "Iteration 98, loss = 1.66883710\n",
            "Iteration 99, loss = 1.66626209\n",
            "Iteration 100, loss = 1.66367164\n",
            "Iteration 101, loss = 1.66105703\n",
            "Iteration 102, loss = 1.65842145\n",
            "Iteration 103, loss = 1.65575940\n",
            "Iteration 104, loss = 1.65307019\n",
            "Iteration 105, loss = 1.65035389\n",
            "Iteration 106, loss = 1.64761238\n",
            "Iteration 107, loss = 1.64486260\n",
            "Iteration 108, loss = 1.64208658\n",
            "Iteration 109, loss = 1.63928551\n",
            "Iteration 110, loss = 1.63646295\n",
            "Iteration 111, loss = 1.63360919\n",
            "Iteration 112, loss = 1.63073286\n",
            "Iteration 113, loss = 1.62783145\n",
            "Iteration 114, loss = 1.62490803\n",
            "Iteration 115, loss = 1.62196374\n",
            "Iteration 116, loss = 1.61899532\n",
            "Iteration 117, loss = 1.61600033\n",
            "Iteration 118, loss = 1.61297916\n",
            "Iteration 119, loss = 1.60993259\n",
            "Iteration 120, loss = 1.60685839\n",
            "Iteration 121, loss = 1.60375783\n",
            "Iteration 122, loss = 1.60062915\n",
            "Iteration 123, loss = 1.59747298\n",
            "Iteration 124, loss = 1.59429718\n",
            "Iteration 125, loss = 1.59110815\n",
            "Iteration 126, loss = 1.58789303\n",
            "Iteration 127, loss = 1.58465119\n",
            "Iteration 128, loss = 1.58138319\n",
            "Iteration 129, loss = 1.57808959\n",
            "Iteration 130, loss = 1.57477061\n",
            "Iteration 131, loss = 1.57142636\n",
            "Iteration 132, loss = 1.56806099\n",
            "Iteration 133, loss = 1.56466984\n",
            "Iteration 134, loss = 1.56125191\n",
            "Iteration 135, loss = 1.55781177\n",
            "Iteration 136, loss = 1.55434611\n",
            "Iteration 137, loss = 1.55085673\n",
            "Iteration 138, loss = 1.54734061\n",
            "Iteration 139, loss = 1.54380116\n",
            "Iteration 140, loss = 1.54024786\n",
            "Iteration 141, loss = 1.53666413\n",
            "Iteration 142, loss = 1.53306434\n",
            "Iteration 143, loss = 1.52944272\n",
            "Iteration 144, loss = 1.52579969\n",
            "Iteration 145, loss = 1.52213544\n",
            "Iteration 146, loss = 1.51845814\n",
            "Iteration 147, loss = 1.51475570\n",
            "Iteration 148, loss = 1.51102981\n",
            "Iteration 149, loss = 1.50729641\n",
            "Iteration 150, loss = 1.50354159\n",
            "Iteration 151, loss = 1.49977148\n",
            "Iteration 152, loss = 1.49598793\n",
            "Iteration 153, loss = 1.49218456\n",
            "Iteration 154, loss = 1.48836139\n",
            "Iteration 155, loss = 1.48451845\n",
            "Iteration 156, loss = 1.48065581\n",
            "Iteration 157, loss = 1.47677355\n",
            "Iteration 158, loss = 1.47287979\n",
            "Iteration 159, loss = 1.46897400\n",
            "Iteration 160, loss = 1.46505051\n",
            "Iteration 161, loss = 1.46110955\n",
            "Iteration 162, loss = 1.45715330\n",
            "Iteration 163, loss = 1.45319738\n",
            "Iteration 164, loss = 1.44923824\n",
            "Iteration 165, loss = 1.44526732\n",
            "Iteration 166, loss = 1.44129929\n",
            "Iteration 167, loss = 1.43734661\n",
            "Iteration 168, loss = 1.43339263\n",
            "Iteration 169, loss = 1.42943053\n",
            "Iteration 170, loss = 1.42545958\n",
            "Iteration 171, loss = 1.42148004\n",
            "Iteration 172, loss = 1.41750145\n",
            "Iteration 173, loss = 1.41352543\n",
            "Iteration 174, loss = 1.40955823\n",
            "Iteration 175, loss = 1.40558769\n",
            "Iteration 176, loss = 1.40162637\n",
            "Iteration 177, loss = 1.39766461\n",
            "Iteration 178, loss = 1.39370418\n",
            "Iteration 179, loss = 1.38974351\n",
            "Iteration 180, loss = 1.38578002\n",
            "Iteration 181, loss = 1.38181420\n",
            "Iteration 182, loss = 1.37784659\n",
            "Iteration 183, loss = 1.37388065\n",
            "Iteration 184, loss = 1.36991821\n",
            "Iteration 185, loss = 1.36595628\n",
            "Iteration 186, loss = 1.36200614\n",
            "Iteration 187, loss = 1.35805660\n",
            "Iteration 188, loss = 1.35410901\n",
            "Iteration 189, loss = 1.35016336\n",
            "Iteration 190, loss = 1.34622020\n",
            "Iteration 191, loss = 1.34228558\n",
            "Iteration 192, loss = 1.33835494\n",
            "Iteration 193, loss = 1.33442909\n",
            "Iteration 194, loss = 1.33051109\n",
            "Iteration 195, loss = 1.32660203\n",
            "Iteration 196, loss = 1.32269347\n",
            "Iteration 197, loss = 1.31879444\n",
            "Iteration 198, loss = 1.31490247\n",
            "Iteration 199, loss = 1.31102237\n",
            "Iteration 200, loss = 1.30714943\n",
            "              precision    recall  f1-score   support\n",
            "\n",
            "           0       1.00      1.00      1.00        18\n",
            "           1       0.00      0.00      0.00        14\n",
            "           2       1.00      0.62      0.76        13\n",
            "\n",
            "   micro avg       1.00      0.58      0.73        45\n",
            "   macro avg       0.67      0.54      0.59        45\n",
            "weighted avg       0.69      0.58      0.62        45\n",
            " samples avg       0.58      0.58      0.58        45\n",
            "\n",
            "[[18  0  0]\n",
            " [14  0  0]\n",
            " [ 5  0  8]]\n",
            "accuracy is  0.5777777777777777\n"
          ],
          "name": "stdout"
        },
        {
          "output_type": "stream",
          "text": [
            "/usr/local/lib/python3.6/dist-packages/sklearn/neural_network/_multilayer_perceptron.py:571: ConvergenceWarning: Stochastic Optimizer: Maximum iterations (200) reached and the optimization hasn't converged yet.\n",
            "  % self.max_iter, ConvergenceWarning)\n",
            "/usr/local/lib/python3.6/dist-packages/sklearn/metrics/_classification.py:1272: UndefinedMetricWarning: Precision and F-score are ill-defined and being set to 0.0 in labels with no predicted samples. Use `zero_division` parameter to control this behavior.\n",
            "  _warn_prf(average, modifier, msg_start, len(result))\n",
            "/usr/local/lib/python3.6/dist-packages/sklearn/metrics/_classification.py:1272: UndefinedMetricWarning: Precision and F-score are ill-defined and being set to 0.0 in samples with no predicted labels. Use `zero_division` parameter to control this behavior.\n",
            "  _warn_prf(average, modifier, msg_start, len(result))\n"
          ],
          "name": "stderr"
        }
      ]
    },
    {
      "cell_type": "code",
      "metadata": {
        "id": "MUYAONQciU4H"
      },
      "source": [
        "import matplotlib.pyplot as plt\n",
        "\n",
        "plt.plot(h.loss_curve_)\n",
        "plt.title('Loss History')\n",
        "plt.xlabel('epoch')\n",
        "plt.legend(['Loss'])"
      ],
      "execution_count": null,
      "outputs": []
    },
    {
      "cell_type": "markdown",
      "metadata": {
        "id": "rIi_LaW3hrbG"
      },
      "source": [
        "### Menghubungkan Colab ke Google Drive"
      ]
    },
    {
      "cell_type": "markdown",
      "metadata": {
        "id": "9YSY2W2tzPkf"
      },
      "source": [
        "Colab dapat dengan mudah dihubungkan ke Google Drive untuk dapat membaca berbagai jenis file di Google Drive.\n",
        "\n",
        "Berikut adalah script untuk mounting Google Drive sebagai folder di colab."
      ]
    },
    {
      "cell_type": "code",
      "metadata": {
        "id": "rXiN0aIOzZkX"
      },
      "source": [
        "from google.colab import drive\n",
        "drive.mount('/content/gdrive')"
      ],
      "execution_count": null,
      "outputs": []
    },
    {
      "cell_type": "markdown",
      "metadata": {
        "id": "rGErtHni04tu"
      },
      "source": [
        "Berikut adalah contoh code untuk membaca file gambar di Google Drive kita.\n",
        "\n",
        "Setelah ter-mount, root Google Drive ada di **\"\"/content/gdrive/My Drive/\"**\n",
        "\n"
      ]
    },
    {
      "cell_type": "code",
      "metadata": {
        "id": "BjDxfwa70Im9"
      },
      "source": [
        "import cv2 #Import Open CV\n",
        "import matplotlib.pyplot as plt #matplotlib bisa digunakan untuk menampilkan gambar  \n",
        "img = cv2.imread(\"/content/gdrive/My Drive/puppy-development.jpg\")\n",
        "plt.imshow(img)"
      ],
      "execution_count": null,
      "outputs": []
    },
    {
      "cell_type": "markdown",
      "metadata": {
        "id": "yzCQjqwbXqtg"
      },
      "source": [
        "Gambar load OpenCV (cv2) warnanya terbalik antara chanel biru dengan merahnya karena itu harus dibalik dengan fungsi **cv2.cvtColor**"
      ]
    },
    {
      "cell_type": "code",
      "metadata": {
        "id": "oHa6X7VoX7GE"
      },
      "source": [
        "img = cv2.cvtColor(img, cv2.COLOR_BGR2RGB)\n",
        "plt.imshow(img)"
      ],
      "execution_count": null,
      "outputs": []
    },
    {
      "cell_type": "markdown",
      "metadata": {
        "id": "d8RreW7ImBu_"
      },
      "source": [
        "Colab juga dapat menerima upload file secara langsung yang nantinya akan disimpan pada root folder."
      ]
    },
    {
      "cell_type": "code",
      "metadata": {
        "id": "YuZbaNnv0ImA"
      },
      "source": [
        "from google.colab import files\n",
        "uploaded = files.upload()\n",
        "img = cv2.imread('Yosi.jpg')\n",
        "img = cv2.cvtColor(img, cv2.COLOR_BGR2RGB)\n",
        "plt.imshow(img)"
      ],
      "execution_count": null,
      "outputs": []
    }
  ]
}